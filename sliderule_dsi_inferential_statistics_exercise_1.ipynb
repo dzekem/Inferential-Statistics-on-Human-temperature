{
 "cells": [
  {
   "cell_type": "markdown",
   "metadata": {},
   "source": [
    "# What is the True Normal Human Body Temperature? \n",
    "\n",
    "#### Background\n",
    "\n",
    "The mean normal body temperature was held to be 37$^{\\circ}$C or 98.6$^{\\circ}$F for more than 120 years since it was first conceptualized and reported by Carl Wunderlich in a famous 1868 book. But, is this value statistically correct?"
   ]
  },
  {
   "cell_type": "markdown",
   "metadata": {},
   "source": [
    "<h3>Exercises</h3>\n",
    "\n",
    "<p>In this exercise, you will analyze a dataset of human body temperatures and employ the concepts of hypothesis testing, confidence intervals, and statistical significance.</p>\n",
    "\n",
    "<p>Answer the following questions <b>in this notebook below and submit to your Github account</b>.</p> \n",
    "\n",
    "<ol>\n",
    "<li>  Is the distribution of body temperatures normal? \n",
    "    <ul>\n",
    "    <li> Although this is not a requirement for the Central Limit Theorem to hold (read the introduction on Wikipedia's page about the CLT carefully: https://en.wikipedia.org/wiki/Central_limit_theorem), it gives us some peace of mind that the population may also be normally distributed if we assume that this sample is representative of the population.\n",
    "    <li> Think about the way you're going to check for the normality of the distribution. Graphical methods are usually used first, but there are also other ways: https://en.wikipedia.org/wiki/Normality_test\n",
    "    </ul>\n",
    "<li>  Is the sample size large? Are the observations independent?\n",
    "    <ul>\n",
    "    <li> Remember that this is a condition for the Central Limit Theorem, and hence the statistical tests we are using, to apply.\n",
    "    </ul>\n",
    "<li>  Is the true population mean really 98.6 degrees F?\n",
    "    <ul>\n",
    "    <li> First, try a bootstrap hypothesis test.\n",
    "    <li> Now, let's try frequentist statistical testing. Would you use a one-sample or two-sample test? Why?\n",
    "    <li> In this situation, is it appropriate to use the $t$ or $z$ statistic? \n",
    "    <li> Now try using the other test. How is the result be different? Why?\n",
    "    </ul>\n",
    "<li>  Draw a small sample of size 10 from the data and repeat both frequentist tests. \n",
    "    <ul>\n",
    "    <li> Which one is the correct one to use? \n",
    "    <li> What do you notice? What does this tell you about the difference in application of the $t$ and $z$ statistic?\n",
    "    </ul>\n",
    "<li>  At what temperature should we consider someone's temperature to be \"abnormal\"?\n",
    "    <ul>\n",
    "    <li> As in the previous example, try calculating everything using the boostrap approach, as well as the frequentist approach.\n",
    "    <li> Start by computing the margin of error and confidence interval. When calculating the confidence interval, keep in mind that you should use the appropriate formula for one draw, and not N draws.\n",
    "    </ul>\n",
    "<li>  Is there a significant difference between males and females in normal temperature?\n",
    "    <ul>\n",
    "    <li> What testing approach did you use and why?\n",
    "    <li> Write a story with your conclusion in the context of the original problem.\n",
    "    </ul>\n",
    "</ol>\n",
    "\n",
    "You can include written notes in notebook cells using Markdown: \n",
    "   - In the control panel at the top, choose Cell > Cell Type > Markdown\n",
    "   - Markdown syntax: http://nestacms.com/docs/creating-content/markdown-cheat-sheet\n",
    "\n",
    "#### Resources\n",
    "\n",
    "+ Information and data sources: http://www.amstat.org/publications/jse/datasets/normtemp.txt, http://www.amstat.org/publications/jse/jse_data_archive.htm\n",
    "+ Markdown syntax: http://nestacms.com/docs/creating-content/markdown-cheat-sheet\n",
    "\n",
    "****"
   ]
  },
  {
   "cell_type": "code",
   "execution_count": 1,
   "metadata": {},
   "outputs": [],
   "source": [
    "import pandas as pd\n",
    "import matplotlib.pyplot as plt\n",
    "import seaborn as sns\n",
    "import numpy as np\n",
    "from scipy import stats\n",
    "import math\n",
    "from matplotlib.colors import ListedColormap\n",
    "df = pd.read_csv('data/human_body_temperature.csv')"
   ]
  },
  {
   "cell_type": "code",
   "execution_count": 2,
   "metadata": {},
   "outputs": [
    {
     "name": "stdout",
     "output_type": "stream",
     "text": [
      "   temperature gender  heart_rate\n",
      "0         99.3      F        68.0\n",
      "1         98.4      F        81.0\n",
      "2         97.8      M        73.0\n",
      "3         99.2      F        66.0\n",
      "4         98.0      F        73.0\n",
      "<class 'pandas.core.frame.DataFrame'>\n",
      "RangeIndex: 130 entries, 0 to 129\n",
      "Data columns (total 3 columns):\n",
      "temperature    130 non-null float64\n",
      "gender         130 non-null object\n",
      "heart_rate     130 non-null float64\n",
      "dtypes: float64(2), object(1)\n",
      "memory usage: 3.1+ KB\n"
     ]
    }
   ],
   "source": [
    "print(df.head())\n",
    "df.info()"
   ]
  },
  {
   "cell_type": "code",
   "execution_count": 3,
   "metadata": {},
   "outputs": [
    {
     "data": {
      "image/png": "[encoded data removed]",
      "text/plain": [
       "<Figure size 432x288 with 1 Axes>"
      ]
     },
     "metadata": {
      "needs_background": "light"
     },
     "output_type": "display_data"
    }
   ],
   "source": [
    "# Since a lot of statistical test requires that data is always normally distributed, it is therefore a necessity to always \n",
    "# check if the distribution is normally distributed or not.\n",
    "# Checking if the data is normally distributed can be done by visualizing the data or by doing necessary tests\n",
    "# Using a Box plot to visualize if it's normally distributed or not.\n",
    "_ = sns.boxplot(x = 'gender', y ='temperature', data=df)\n",
    "plt.show()\n",
    "# Since the box plot is symmetrical with mean and median values equal, it therefore shows that the temperature distribution\n",
    "# with some female temperatures being outliers, this makes the temperature normally distributed."
   ]
  },
  {
   "cell_type": "code",
   "execution_count": 4,
   "metadata": {},
   "outputs": [
    {
     "name": "stdout",
     "output_type": "stream",
     "text": [
      "Mean of temperature column is:  98.24923076923078\n",
      "Standard deviation of temperature column is: 0.7331831580389454\n"
     ]
    }
   ],
   "source": [
    "# Here the Null hypothesis is that the data is normally distributed and the alternative hypothesis is that the \n",
    "# data is not normally distributed.\n",
    "# Normality test on temperature \n",
    "print('Mean of temperature column is: ', df['temperature'].mean())\n",
    "print('Standard deviation of temperature column is:', df['temperature'].std())"
   ]
  },
  {
   "cell_type": "code",
   "execution_count": 5,
   "metadata": {},
   "outputs": [
    {
     "data": {
      "text/plain": [
       "(0.9865769743919373, 0.2331680953502655)"
      ]
     },
     "execution_count": 5,
     "metadata": {},
     "output_type": "execute_result"
    }
   ],
   "source": [
    "# Using the Shapiro-Wilk Test to test for normality.\n",
    "# If the p_value>0.05, we fail to reject the null hypothesis but if p_value<0.05, the null value is rejected meaning the data is \n",
    "# not normally distributed.\n",
    "from scipy import stats\n",
    "stats.shapiro(df['temperature'])\n",
    "\n",
    "# From the output, the test statistics is 0.99 and the p_value is 0.23 \n",
    "# Since the p_value> 0.05, the distribution is therefore normally distributed meaning further statistical tests can be performed."
   ]
  },
  {
   "cell_type": "code",
   "execution_count": 6,
   "metadata": {},
   "outputs": [
    {
     "name": "stdout",
     "output_type": "stream",
     "text": [
      "['F' 'M']\n",
      "['red', 'blue']\n"
     ]
    },
    {
     "data": {
      "image/png": "[encoded data removed]",
      "text/plain": [
       "<Figure size 432x288 with 1 Axes>"
      ]
     },
     "metadata": {
      "needs_background": "light"
     },
     "output_type": "display_data"
    }
   ],
   "source": [
    "# The sample size is large as there are 130 observations.\n",
    "# To know if the observations are dependent or independent,  a line plot showing the relationship between temperature and Heart-rate\n",
    "cm = plt.cm.RdBu\n",
    "cm_bright = (ListedColormap(['red', 'blue']))\n",
    "print(df['gender'].unique())\n",
    "print(cm_bright.colors)\n",
    "df.plot.scatter('temperature','heart_rate',c=[cm_bright.colors[i] for i in df.gender==\"M\"],alpha=0.8, marker='o', figsize=(6,4))\n",
    "plt.xlabel('Temperature')\n",
    "plt.ylabel('Heart_rate')\n",
    "plt.title('Temperature vs Heart_rate ')\n",
    "plt.show()\n",
    "# From this scatter plot, temperature increase increases the heart-rates \n",
    "# Most of the heart-rate values are concentrated at 70 to 85 and these values are achieved at the temperature range of 98 to 99 degree Farenheit\n",
    "#  This therefore shows that the two features are dependent as an increase in temperature causes increase in heart-rate\n"
   ]
  },
  {
   "cell_type": "code",
   "execution_count": 7,
   "metadata": {},
   "outputs": [
    {
     "name": "stdout",
     "output_type": "stream",
     "text": [
      "The new mean is  98.59999999999992\n"
     ]
    }
   ],
   "source": [
    "# One sample test is suitable as the test is performed only on one feature which is the temperature.\n",
    "# since the number of observations is greater than 50, the Z-score is therefore most suitable \n",
    "\n",
    "# Boostrap hypothesis testing\n",
    "# Stating the null and alternative hypothesis\n",
    "# Ho: mean = 98.6\n",
    "# Ha: mean <> 98.6\n",
    "# significancce level is 5%\n",
    "# test statistics is the sample mean which is 98.25\n",
    "tmean = df['temperature'].mean()\n",
    "\n",
    "# subtract this mean from each temperature value and add the null hypothesis value\n",
    "df['mean subtract'] = df['temperature'] - tmean + 98.6\n",
    "mean2 = df['mean subtract'].mean()\n",
    "print('The new mean is ', mean2)"
   ]
  },
  {
   "cell_type": "code",
   "execution_count": 8,
   "metadata": {},
   "outputs": [
    {
     "name": "stdout",
     "output_type": "stream",
     "text": [
      "mean of replicates is 98.59954930769231\n",
      "Standard deviation of replicates is 0.06460890453399462\n"
     ]
    },
    {
     "data": {
      "image/png": "[encoded data removed]",
      "text/plain": [
       "<Figure size 432x288 with 1 Axes>"
      ]
     },
     "metadata": {
      "needs_background": "light"
     },
     "output_type": "display_data"
    }
   ],
   "source": [
    "# select observations at random 10000 times from sample\n",
    "def bootstrap_replicate_1d(data, func):\n",
    "    return func(np.random.choice(data, size=len(data)))\n",
    "\n",
    "# Bootstrap replicate function \n",
    "def draw_bs_reps(data, func, size=1):\n",
    "    # bs_replicates an array of replicates\n",
    "    bs_replicates = np.empty(size)\n",
    "\n",
    "    # loop to generate replicates\n",
    "    for i in range(size):\n",
    "        bs_replicates[i] = bootstrap_replicate_1d(data, func)\n",
    "\n",
    "    return bs_replicates\n",
    "# Take bootstrap replicates of temp translated impact \n",
    "bs_replicates = draw_bs_reps(df['mean subtract'], np.mean, 10000)\n",
    "plt.hist(bs_replicates)\n",
    "print('mean of replicates is', bs_replicates.mean())     \n",
    "print('Standard deviation of replicates is', bs_replicates.std()) "
   ]
  },
  {
   "cell_type": "code",
   "execution_count": 9,
   "metadata": {},
   "outputs": [
    {
     "name": "stdout",
     "output_type": "stream",
     "text": [
      "p_value=  0.5017\n"
     ]
    }
   ],
   "source": [
    "# Computing fraction of replicates that are less than the mean\n",
    "p = np.sum(bs_replicates <= np.mean(bs_replicates)) / 10000\n",
    "\n",
    "# Print the p-value\n",
    "print('p_value= ', \"%0.4f\" % (p))\n",
    "# If p_value > 0.05, the null hypothesis is supported else if p_value < 0.05 the null hypothesis is rejected.\n",
    "# The null hypothesis is therefore supported and the alternative hypothesis is rejected since p_value > 0.05 "
   ]
  },
  {
   "cell_type": "code",
   "execution_count": 10,
   "metadata": {},
   "outputs": [
    {
     "name": "stdout",
     "output_type": "stream",
     "text": [
      "Z_score is  0.4166666666666667\n",
      "Probability of having a mean lesser than the sample mean p(z<98.5) is  0.6591\n"
     ]
    }
   ],
   "source": [
    "# Frequentiest statistical testing\n",
    "# Z test will be done with a one sample test\n",
    "# To calculate the z test using values from above analysis\n",
    "sample_mean = 98.60\n",
    "sample_size = 100\n",
    "population_mean = 98.25 \n",
    "sample_std = 0.06\n",
    "z_score = (98.5 - 98.25) / (0.06 * math.sqrt(100))\n",
    "print(\"Z_score is \", z_score)\n",
    "# This is the probability that z < 98.5\n",
    "# from the left z table, 0.4 and 0.01 intersects at 0.6591\n",
    "p_zscore = 0.6591\n",
    "print('Probability of having a mean lesser than the sample mean p(z<98.5) is ', p_zscore )"
   ]
  },
  {
   "cell_type": "code",
   "execution_count": 17,
   "metadata": {},
   "outputs": [
    {
     "name": "stdout",
     "output_type": "stream",
     "text": [
      "Mean of replicates is 98.58582051282052\n",
      "Standard deviation of replicates is 0.05542508611576533\n",
      "T_score is  0.761\n",
      "Upper tail probability of t value of 0.8 must lie between 0.25 and 0.1\n"
     ]
    }
   ],
   "source": [
    "# t test one sample\n",
    "# Using the t table, the sample size has to be less than 30\n",
    "# Take bootstrap replicates of temp translated impact \n",
    "bs_replicates = draw_bs_reps(df['mean subtract'], np.mean, 30)\n",
    "print('Mean of replicates is', bs_replicates.mean())    \n",
    "print('Standard deviation of replicates is', bs_replicates.std())\n",
    "\n",
    "sample_mean = 98.61\n",
    "sample_size = 30\n",
    "population_mean = 98.25 \n",
    "sample_std = 0.055  #slightly smaller from that of z score\n",
    "t_score = (98.5 - 98.25) / (0.06 * math.sqrt(30))\n",
    "print(\"T_score is \", \"%.3f\" %(t_score))   \n",
    "# from the t table, the upper tail probability of a t value 0f 0.8 must lie between 0.025 and 0.01 \n",
    "print('Upper tail probability of t value of 0.8 must lie between 0.25 and 0.1')"
   ]
  },
  {
   "cell_type": "code",
   "execution_count": 12,
   "metadata": {},
   "outputs": [
    {
     "name": "stdout",
     "output_type": "stream",
     "text": [
      "mean of replicates is 98.57507692307692\n",
      "Standard deviation of replicates is 0.03679497007044417\n",
      "t score is 1.3176156917368247\n",
      "Upper tail probability of t value of 1.3 is 0.1\n"
     ]
    }
   ],
   "source": [
    "# working on a sample of 10 random values\n",
    "bs_replicates = draw_bs_reps(df['mean subtract'], np.mean, 10)\n",
    "print('mean of replicates is', bs_replicates.mean())     # which is still same as the hypothesis testing value.\n",
    "print('Standard deviation of replicates is', bs_replicates.std())\n",
    "# with samller sample space, the most suitable is t tes\n",
    "sample_mean = 98.63\n",
    "sample_size = 10\n",
    "population_mean = 98.25 \n",
    "sample_std = 0.062  \n",
    "t_score = (98.5 - 98.25) / (0.06 * math.sqrt(10))\n",
    "print('t score is', t_score)\n",
    "# from the t table, degrees of freedom is 9 and t value to know the probability.\n",
    "print('Upper tail probability of t value of 1.3 is 0.1')"
   ]
  },
  {
   "cell_type": "code",
   "execution_count": 13,
   "metadata": {},
   "outputs": [
    {
     "name": "stdout",
     "output_type": "stream",
     "text": [
      "Margin of error is  0.25\n",
      "Confidence Interval is  98.38 : 98.88\n"
     ]
    }
   ],
   "source": [
    "# Confidence interval using the t-score\n",
    "CI_1 = sample_mean - t_score * (0.06 * math.sqrt(10))\n",
    "CI_2 = sample_mean + t_score * (0.06 * math.sqrt(10))\n",
    "ME = t_score * (0.06 * math.sqrt(10))\n",
    "print('Margin of error is ', \"%.2f\" %(ME))\n",
    "print('Confidence Interval is ', \"%.2f\" %(CI_1), ':', \"%.2f\" %(CI_2))"
   ]
  },
  {
   "cell_type": "code",
   "execution_count": 14,
   "metadata": {},
   "outputs": [
    {
     "name": "stdout",
     "output_type": "stream",
     "text": [
      "mean of replicates is 98.609\n",
      "Standard deviation of replicates is 0.06981213166642873\n",
      "z values from the Z table is 0.9049\n"
     ]
    }
   ],
   "source": [
    "# z score with the 10 samples\n",
    "bs_replicates = draw_bs_reps(df['mean subtract'], np.mean, 10)\n",
    "print('mean of replicates is', bs_replicates.mean())     \n",
    "print('Standard deviation of replicates is', bs_replicates.std())\n",
    "# with samller sample space, the most suitable is t test but applying the z test.\n",
    "sample_mean = 98.59\n",
    "sample_size = 10\n",
    "population_mean = 98.25 \n",
    "sample_std = 0.062  \n",
    "z_score = (98.5 - 98.25) / (0.06 * math.sqrt(10))\n",
    "# from the left z table\n",
    "# probability of having a mean lower than the sample mean is 0.9049\n",
    "print('z values from the Z table is 0.9049')"
   ]
  },
  {
   "cell_type": "code",
   "execution_count": 15,
   "metadata": {},
   "outputs": [
    {
     "name": "stdout",
     "output_type": "stream",
     "text": [
      "['F' 'M']\n",
      "['red', 'blue']\n"
     ]
    },
    {
     "data": {
      "image/png": "[encoded data removed]",
      "text/plain": [
       "<Figure size 720x432 with 1 Axes>"
      ]
     },
     "metadata": {
      "needs_background": "light"
     },
     "output_type": "display_data"
    }
   ],
   "source": [
    "# Difference between male and female temperatures\n",
    "cm = plt.cm.RdBu\n",
    "cm_bright = (ListedColormap(['red', 'blue']))\n",
    "print(df['gender'].unique())\n",
    "print(cm_bright.colors)\n",
    "df.plot.scatter('temperature','heart_rate',c=[cm_bright.colors[i] for i in df.gender==\"M\"],alpha=0.8, marker='o', figsize=(10,6))\n",
    "plt.xlabel('temperature')\n",
    "plt.ylabel('heart_rate')\n",
    "plt.title('temperature vs heart_rate for males and females')\n",
    "plt.show()"
   ]
  },
  {
   "cell_type": "markdown",
   "metadata": {},
   "source": [
    "* From the graph, most Men have an average temperature and some of them extending to lower values around 97 degree farenheit outliering at the left part of the graph due to those smaller temperature values.\n",
    "* Most women have high body temperatures and some extending to abnormally higher temperatures outliering at the right section of the graph\n",
    "* Very few women have temperatures less than the population mean\n",
    "* To conclude, the men have few outliers lower than the mean temperature whereas women have outliers higher than the mean temperature."
   ]
  }
 ],
 "metadata": {
  "kernelspec": {
   "display_name": "Python 3",
   "language": "python",
   "name": "python3"
  },
  "language_info": {
   "codemirror_mode": {
    "name": "ipython",
    "version": 3
   },
   "file_extension": ".py",
   "mimetype": "text/x-python",
   "name": "python",
   "nbconvert_exporter": "python",
   "pygments_lexer": "ipython3",
   "version": "3.7.0"
  }
 },
 "nbformat": 4,
 "nbformat_minor": 1
}
